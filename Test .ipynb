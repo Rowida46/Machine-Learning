{
 "cells": [
  {
   "cell_type": "code",
   "execution_count": 2,
   "metadata": {},
   "outputs": [
    {
     "name": "stdout",
     "output_type": "stream",
     "text": [
      "C:\\Users\\Rowida Nagah\n"
     ]
    },
    {
     "data": {
      "text/html": [
       "<div>\n",
       "<style scoped>\n",
       "    .dataframe tbody tr th:only-of-type {\n",
       "        vertical-align: middle;\n",
       "    }\n",
       "\n",
       "    .dataframe tbody tr th {\n",
       "        vertical-align: top;\n",
       "    }\n",
       "\n",
       "    .dataframe thead th {\n",
       "        text-align: right;\n",
       "    }\n",
       "</style>\n",
       "<table border=\"1\" class=\"dataframe\">\n",
       "  <thead>\n",
       "    <tr style=\"text-align: right;\">\n",
       "      <th></th>\n",
       "      <th>image</th>\n",
       "      <th>top_left_x</th>\n",
       "      <th>top_left_y</th>\n",
       "      <th>bottom_right_x</th>\n",
       "      <th>bottom_right_y</th>\n",
       "    </tr>\n",
       "  </thead>\n",
       "  <tbody>\n",
       "    <tr>\n",
       "      <th>0</th>\n",
       "      <td>user_3/A0.jpg</td>\n",
       "      <td>124</td>\n",
       "      <td>18</td>\n",
       "      <td>214</td>\n",
       "      <td>108</td>\n",
       "    </tr>\n",
       "    <tr>\n",
       "      <th>1</th>\n",
       "      <td>user_3/A1.jpg</td>\n",
       "      <td>124</td>\n",
       "      <td>18</td>\n",
       "      <td>214</td>\n",
       "      <td>108</td>\n",
       "    </tr>\n",
       "    <tr>\n",
       "      <th>2</th>\n",
       "      <td>user_3/A2.jpg</td>\n",
       "      <td>123</td>\n",
       "      <td>19</td>\n",
       "      <td>213</td>\n",
       "      <td>109</td>\n",
       "    </tr>\n",
       "    <tr>\n",
       "      <th>3</th>\n",
       "      <td>user_3/A3.jpg</td>\n",
       "      <td>122</td>\n",
       "      <td>21</td>\n",
       "      <td>212</td>\n",
       "      <td>111</td>\n",
       "    </tr>\n",
       "    <tr>\n",
       "      <th>4</th>\n",
       "      <td>user_3/A4.jpg</td>\n",
       "      <td>122</td>\n",
       "      <td>20</td>\n",
       "      <td>212</td>\n",
       "      <td>110</td>\n",
       "    </tr>\n",
       "  </tbody>\n",
       "</table>\n",
       "</div>"
      ],
      "text/plain": [
       "           image  top_left_x  top_left_y  bottom_right_x  bottom_right_y\n",
       "0  user_3/A0.jpg         124          18             214             108\n",
       "1  user_3/A1.jpg         124          18             214             108\n",
       "2  user_3/A2.jpg         123          19             213             109\n",
       "3  user_3/A3.jpg         122          21             212             111\n",
       "4  user_3/A4.jpg         122          20             212             110"
      ]
     },
     "execution_count": 2,
     "metadata": {},
     "output_type": "execute_result"
    }
   ],
   "source": [
    "import pandas as pd\n",
    "import os\n",
    "path = os.path.dirname(os.path.realpath('__file__'))\n",
    "print(path)\n",
    "df= pd.read_csv(path + '\\\\EEG\\\\user_3\\\\user_3_loc.csv')\n",
    "df.head()"
   ]
  },
  {
   "cell_type": "code",
   "execution_count": 3,
   "metadata": {},
   "outputs": [
    {
     "data": {
      "text/plain": [
       "array([  0,   1,   2,   3,   4,   5,   6,   7,   8,   9,  10,  11,  12,\n",
       "        13,  14,  15,  16,  17,  18,  19,  20,  21,  22,  23,  24,  25,\n",
       "        26,  27,  28,  29,  30,  31,  32,  33,  34,  35,  36,  37,  38,\n",
       "        39,  40,  41,  42,  43,  44,  45,  46,  47,  48,  49,  50,  51,\n",
       "        52,  53,  54,  55,  56,  57,  58,  59,  60,  61,  62,  63,  64,\n",
       "        65,  66,  67,  68,  69,  70,  71,  72,  73,  74,  75,  76,  77,\n",
       "        78,  79,  80,  81,  82,  83,  84,  85,  86,  87,  88,  89,  90,\n",
       "        91,  92,  93,  94,  95,  96,  97,  98,  99, 100, 101, 102, 103,\n",
       "       104, 105, 106, 107, 108, 109, 110, 111, 112, 113, 114, 115, 116,\n",
       "       117, 118, 119, 120, 121, 122, 123, 124, 125, 126, 127, 128, 129,\n",
       "       130, 131, 132, 133, 134, 135, 136, 137, 138, 139, 140, 141, 142,\n",
       "       143, 144, 145, 146, 147, 148, 149, 150, 151, 152, 153, 154, 155,\n",
       "       156, 157, 158, 159, 160, 161, 162, 163, 164, 165, 166, 167, 168,\n",
       "       169, 170, 171, 172, 173, 174, 175, 176, 177, 178, 179, 180, 181,\n",
       "       182, 183, 184, 185, 186, 187, 188, 189, 190, 191, 192, 193, 194,\n",
       "       195, 196, 197, 198, 199, 200, 201, 202, 203, 204, 205, 206, 207,\n",
       "       208, 209, 210, 211, 212, 213, 214, 215, 216, 217, 218, 219, 220,\n",
       "       221, 222, 223, 224, 225, 226, 227, 228, 229, 230, 231, 232, 233,\n",
       "       234, 235, 236, 237, 238, 239], dtype=int64)"
      ]
     },
     "execution_count": 3,
     "metadata": {},
     "output_type": "execute_result"
    }
   ],
   "source": [
    "from sklearn.preprocessing import LabelEncoder\n",
    "le = LabelEncoder()\n",
    "le.fit_transform(df.image)"
   ]
  },
  {
   "cell_type": "code",
   "execution_count": 18,
   "metadata": {},
   "outputs": [
    {
     "data": {
      "text/html": [
       "<div>\n",
       "<style scoped>\n",
       "    .dataframe tbody tr th:only-of-type {\n",
       "        vertical-align: middle;\n",
       "    }\n",
       "\n",
       "    .dataframe tbody tr th {\n",
       "        vertical-align: top;\n",
       "    }\n",
       "\n",
       "    .dataframe thead th {\n",
       "        text-align: right;\n",
       "    }\n",
       "</style>\n",
       "<table border=\"1\" class=\"dataframe\">\n",
       "  <thead>\n",
       "    <tr style=\"text-align: right;\">\n",
       "      <th></th>\n",
       "      <th>image</th>\n",
       "      <th>top_left_x</th>\n",
       "      <th>top_left_y</th>\n",
       "      <th>bottom_right_x</th>\n",
       "      <th>bottom_right_y</th>\n",
       "      <th>A-Z</th>\n",
       "    </tr>\n",
       "  </thead>\n",
       "  <tbody>\n",
       "    <tr>\n",
       "      <th>0</th>\n",
       "      <td>user_3/A0.jpg</td>\n",
       "      <td>124</td>\n",
       "      <td>18</td>\n",
       "      <td>214</td>\n",
       "      <td>108</td>\n",
       "      <td>A</td>\n",
       "    </tr>\n",
       "    <tr>\n",
       "      <th>1</th>\n",
       "      <td>user_3/A1.jpg</td>\n",
       "      <td>124</td>\n",
       "      <td>18</td>\n",
       "      <td>214</td>\n",
       "      <td>108</td>\n",
       "      <td>A</td>\n",
       "    </tr>\n",
       "    <tr>\n",
       "      <th>2</th>\n",
       "      <td>user_3/A2.jpg</td>\n",
       "      <td>123</td>\n",
       "      <td>19</td>\n",
       "      <td>213</td>\n",
       "      <td>109</td>\n",
       "      <td>A</td>\n",
       "    </tr>\n",
       "    <tr>\n",
       "      <th>3</th>\n",
       "      <td>user_3/A3.jpg</td>\n",
       "      <td>122</td>\n",
       "      <td>21</td>\n",
       "      <td>212</td>\n",
       "      <td>111</td>\n",
       "      <td>A</td>\n",
       "    </tr>\n",
       "    <tr>\n",
       "      <th>4</th>\n",
       "      <td>user_3/A4.jpg</td>\n",
       "      <td>122</td>\n",
       "      <td>20</td>\n",
       "      <td>212</td>\n",
       "      <td>110</td>\n",
       "      <td>A</td>\n",
       "    </tr>\n",
       "  </tbody>\n",
       "</table>\n",
       "</div>"
      ],
      "text/plain": [
       "           image  top_left_x  top_left_y  bottom_right_x  bottom_right_y A-Z\n",
       "0  user_3/A0.jpg         124          18             214             108   A\n",
       "1  user_3/A1.jpg         124          18             214             108   A\n",
       "2  user_3/A2.jpg         123          19             213             109   A\n",
       "3  user_3/A3.jpg         122          21             212             111   A\n",
       "4  user_3/A4.jpg         122          20             212             110   A"
      ]
     },
     "execution_count": 18,
     "metadata": {},
     "output_type": "execute_result"
    }
   ],
   "source": [
    "ll= []\n",
    "for i in df.image :\n",
    "    if 'A' in i :\n",
    "        ll.append('A')\n",
    "    elif 'B' in i :\n",
    "        ll.append('B')\n",
    "    elif 'C' in i :\n",
    "        ll.append('C')\n",
    "    elif 'D' in i :\n",
    "        ll.append('D')\n",
    "    elif 'E' in i :\n",
    "        ll.append('E')\n",
    "    elif 'F' in i :\n",
    "        ll.append('F')\n",
    "    elif 'H' in i :\n",
    "        ll.append('H')\n",
    "    elif 'G' in i :\n",
    "        ll.append('G')\n",
    "    elif 'B' in i :\n",
    "        ll.append('B')\n",
    "    elif 'I' in i :\n",
    "        ll.append('I')\n",
    "    elif 'K' in i :\n",
    "        ll.append('K')\n",
    "    elif 'L' in i :\n",
    "        ll.append('L')\n",
    "    elif 'M' in i :\n",
    "        ll.append('M')\n",
    "    elif 'N' in i :\n",
    "        ll.append('N')\n",
    "    elif 'B' in i :\n",
    "        ll.append('B')\n",
    "    elif 'O' in i :\n",
    "        ll.append('O')\n",
    "    elif 'P' in i :\n",
    "        ll.append('P')\n",
    "    elif 'Q' in i :\n",
    "        ll.append('Q')\n",
    "    elif 'R' in i :\n",
    "        ll.append('R')\n",
    "    elif 'S' in i :\n",
    "        ll.append('S')\n",
    "    elif 'T' in i :\n",
    "        ll.append('T')\n",
    "    elif 'U' in i :\n",
    "        ll.append('U')\n",
    "    elif 'V' in i :\n",
    "        ll.append('V')\n",
    "    elif 'W' in i :\n",
    "        ll.append('W')\n",
    "    elif 'X' in i :\n",
    "        ll.append('X')\n",
    "    elif 'Y' in i :\n",
    "        ll.append('Y')\n",
    "    \n",
    "df['A-Z'] = ll \n",
    "\n",
    "df.head()    \n",
    "        \n",
    "        "
   ]
  },
  {
   "cell_type": "code",
   "execution_count": 15,
   "metadata": {},
   "outputs": [
    {
     "data": {
      "text/plain": [
       "230"
      ]
     },
     "execution_count": 15,
     "metadata": {},
     "output_type": "execute_result"
    }
   ],
   "source": [
    "len(ll)"
   ]
  },
  {
   "cell_type": "code",
   "execution_count": 17,
   "metadata": {},
   "outputs": [
    {
     "data": {
      "text/plain": [
       "(240, 5)"
      ]
     },
     "execution_count": 17,
     "metadata": {},
     "output_type": "execute_result"
    }
   ],
   "source": [
    "df.shape"
   ]
  },
  {
   "cell_type": "code",
   "execution_count": null,
   "metadata": {},
   "outputs": [],
   "source": []
  }
 ],
 "metadata": {
  "kernelspec": {
   "display_name": "Python 3",
   "language": "python",
   "name": "python3"
  },
  "language_info": {
   "codemirror_mode": {
    "name": "ipython",
    "version": 3
   },
   "file_extension": ".py",
   "mimetype": "text/x-python",
   "name": "python",
   "nbconvert_exporter": "python",
   "pygments_lexer": "ipython3",
   "version": "3.7.0"
  }
 },
 "nbformat": 4,
 "nbformat_minor": 2
}
