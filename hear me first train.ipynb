{
 "cells": [
  {
   "cell_type": "code",
   "execution_count": 1,
   "metadata": {},
   "outputs": [
    {
     "name": "stdout",
     "output_type": "stream",
     "text": [
      "C:\\Users\\Rowida Nagah\n"
     ]
    },
    {
     "data": {
      "text/html": [
       "<div>\n",
       "<style scoped>\n",
       "    .dataframe tbody tr th:only-of-type {\n",
       "        vertical-align: middle;\n",
       "    }\n",
       "\n",
       "    .dataframe tbody tr th {\n",
       "        vertical-align: top;\n",
       "    }\n",
       "\n",
       "    .dataframe thead th {\n",
       "        text-align: right;\n",
       "    }\n",
       "</style>\n",
       "<table border=\"1\" class=\"dataframe\">\n",
       "  <thead>\n",
       "    <tr style=\"text-align: right;\">\n",
       "      <th></th>\n",
       "      <th>image</th>\n",
       "      <th>top_left_x</th>\n",
       "      <th>top_left_y</th>\n",
       "      <th>bottom_right_x</th>\n",
       "      <th>bottom_right_y</th>\n",
       "    </tr>\n",
       "  </thead>\n",
       "  <tbody>\n",
       "    <tr>\n",
       "      <th>0</th>\n",
       "      <td>user_3/A0.jpg</td>\n",
       "      <td>124</td>\n",
       "      <td>18</td>\n",
       "      <td>214</td>\n",
       "      <td>108</td>\n",
       "    </tr>\n",
       "    <tr>\n",
       "      <th>1</th>\n",
       "      <td>user_3/A1.jpg</td>\n",
       "      <td>124</td>\n",
       "      <td>18</td>\n",
       "      <td>214</td>\n",
       "      <td>108</td>\n",
       "    </tr>\n",
       "    <tr>\n",
       "      <th>2</th>\n",
       "      <td>user_3/A2.jpg</td>\n",
       "      <td>123</td>\n",
       "      <td>19</td>\n",
       "      <td>213</td>\n",
       "      <td>109</td>\n",
       "    </tr>\n",
       "    <tr>\n",
       "      <th>3</th>\n",
       "      <td>user_3/A3.jpg</td>\n",
       "      <td>122</td>\n",
       "      <td>21</td>\n",
       "      <td>212</td>\n",
       "      <td>111</td>\n",
       "    </tr>\n",
       "    <tr>\n",
       "      <th>4</th>\n",
       "      <td>user_3/A4.jpg</td>\n",
       "      <td>122</td>\n",
       "      <td>20</td>\n",
       "      <td>212</td>\n",
       "      <td>110</td>\n",
       "    </tr>\n",
       "  </tbody>\n",
       "</table>\n",
       "</div>"
      ],
      "text/plain": [
       "           image  top_left_x  top_left_y  bottom_right_x  bottom_right_y\n",
       "0  user_3/A0.jpg         124          18             214             108\n",
       "1  user_3/A1.jpg         124          18             214             108\n",
       "2  user_3/A2.jpg         123          19             213             109\n",
       "3  user_3/A3.jpg         122          21             212             111\n",
       "4  user_3/A4.jpg         122          20             212             110"
      ]
     },
     "execution_count": 1,
     "metadata": {},
     "output_type": "execute_result"
    }
   ],
   "source": [
    "import os\n",
    "import pandas as pd\n",
    "path = os.path.dirname(os.path.realpath('__file__'))\n",
    "print(path)\n",
    "df = pd.read_csv(path + '\\\\EEG\\\\user_3\\\\user_3_loc.csv'  )\n",
    "df.head()"
   ]
  },
  {
   "cell_type": "code",
   "execution_count": 5,
   "metadata": {},
   "outputs": [],
   "source": [
    "import cv2\n",
    "import os\n",
    "import glob\n",
    "from skimage import data, io, filters\n",
    "from skimage.transform import rescale\n",
    "from skimage.color import rgb2gray\n",
    "from skimage.feature import hog \n",
    "from skimage.transform import resize\n",
    "img_dir = path + \"\\\\EEG\\\\user_3\" \n",
    "data_path = os.path.join(img_dir,'*g')\n",
    "files = glob.glob(data_path)\n",
    "def convertToGrayToHOG(imgVector):\n",
    "    rgbImage = rgb2gray(imgVector)\n",
    "    return hog(rgbImage)\n",
    "from PIL import Image\n",
    "os.chdir('EEG')\n",
    "X = []\n",
    "for i in range(len(df.image.values)):\n",
    "    im = Image.open(r\"{0}\".format(df.image.values[i])).convert('LA')\n",
    "    im1 = im.crop((df.top_left_x.values[i], df.top_left_y.values[i], df.bottom_right_x.values[i], df.bottom_right_y.values[i]))\n",
    "    im1 = im1.resize((128, 128), Image.ANTIALIAS)\n",
    "    im1 = hog(im1)\n",
    "#print(len(im1))\n",
    "    X.append(list(im1))\n"
   ]
  },
  {
   "cell_type": "code",
   "execution_count": 6,
   "metadata": {},
   "outputs": [],
   "source": [
    "AY = 'ABCDEFGHIKLMNOPQRSTUVWXY'\n",
    "Y = list()\n",
    "for i in range(len(AY)):\n",
    "    for j in range(10):\n",
    "        Y.append(AY[i])\n",
    "    "
   ]
  },
  {
   "cell_type": "code",
   "execution_count": 8,
   "metadata": {},
   "outputs": [
    {
     "data": {
      "text/html": [
       "<div>\n",
       "<style scoped>\n",
       "    .dataframe tbody tr th:only-of-type {\n",
       "        vertical-align: middle;\n",
       "    }\n",
       "\n",
       "    .dataframe tbody tr th {\n",
       "        vertical-align: top;\n",
       "    }\n",
       "\n",
       "    .dataframe thead th {\n",
       "        text-align: right;\n",
       "    }\n",
       "</style>\n",
       "<table border=\"1\" class=\"dataframe\">\n",
       "  <thead>\n",
       "    <tr style=\"text-align: right;\">\n",
       "      <th></th>\n",
       "      <th>0_x</th>\n",
       "      <th>1</th>\n",
       "      <th>2</th>\n",
       "      <th>3</th>\n",
       "      <th>4</th>\n",
       "      <th>5</th>\n",
       "      <th>6</th>\n",
       "      <th>7</th>\n",
       "      <th>8</th>\n",
       "      <th>9</th>\n",
       "      <th>...</th>\n",
       "      <th>15867</th>\n",
       "      <th>15868</th>\n",
       "      <th>15869</th>\n",
       "      <th>15870</th>\n",
       "      <th>15871</th>\n",
       "      <th>15872</th>\n",
       "      <th>15873</th>\n",
       "      <th>15874</th>\n",
       "      <th>15875</th>\n",
       "      <th>0_y</th>\n",
       "    </tr>\n",
       "  </thead>\n",
       "  <tbody>\n",
       "    <tr>\n",
       "      <th>0</th>\n",
       "      <td>0.207034</td>\n",
       "      <td>0.000000</td>\n",
       "      <td>0.008010</td>\n",
       "      <td>0.037995</td>\n",
       "      <td>0.067968</td>\n",
       "      <td>0.055907</td>\n",
       "      <td>0.040051</td>\n",
       "      <td>0.050661</td>\n",
       "      <td>0.000000</td>\n",
       "      <td>0.148184</td>\n",
       "      <td>...</td>\n",
       "      <td>0.000000</td>\n",
       "      <td>0.0</td>\n",
       "      <td>0.000000</td>\n",
       "      <td>0.000000</td>\n",
       "      <td>0.269353</td>\n",
       "      <td>0.000000</td>\n",
       "      <td>0.000000</td>\n",
       "      <td>0.000000</td>\n",
       "      <td>0.000000</td>\n",
       "      <td>A</td>\n",
       "    </tr>\n",
       "    <tr>\n",
       "      <th>1</th>\n",
       "      <td>0.210404</td>\n",
       "      <td>0.014370</td>\n",
       "      <td>0.133128</td>\n",
       "      <td>0.086218</td>\n",
       "      <td>0.128525</td>\n",
       "      <td>0.043109</td>\n",
       "      <td>0.018176</td>\n",
       "      <td>0.000000</td>\n",
       "      <td>0.079489</td>\n",
       "      <td>0.174552</td>\n",
       "      <td>...</td>\n",
       "      <td>0.000000</td>\n",
       "      <td>0.0</td>\n",
       "      <td>0.017927</td>\n",
       "      <td>0.040086</td>\n",
       "      <td>0.347031</td>\n",
       "      <td>0.056691</td>\n",
       "      <td>0.017927</td>\n",
       "      <td>0.000000</td>\n",
       "      <td>0.000000</td>\n",
       "      <td>A</td>\n",
       "    </tr>\n",
       "    <tr>\n",
       "      <th>2</th>\n",
       "      <td>0.224609</td>\n",
       "      <td>0.034242</td>\n",
       "      <td>0.032485</td>\n",
       "      <td>0.017121</td>\n",
       "      <td>0.068910</td>\n",
       "      <td>0.017121</td>\n",
       "      <td>0.043313</td>\n",
       "      <td>0.147452</td>\n",
       "      <td>0.024213</td>\n",
       "      <td>0.114850</td>\n",
       "      <td>...</td>\n",
       "      <td>0.144671</td>\n",
       "      <td>0.0</td>\n",
       "      <td>0.034099</td>\n",
       "      <td>0.049708</td>\n",
       "      <td>0.261024</td>\n",
       "      <td>0.026958</td>\n",
       "      <td>0.051149</td>\n",
       "      <td>0.053916</td>\n",
       "      <td>0.038124</td>\n",
       "      <td>A</td>\n",
       "    </tr>\n",
       "    <tr>\n",
       "      <th>3</th>\n",
       "      <td>0.218314</td>\n",
       "      <td>0.000000</td>\n",
       "      <td>0.042671</td>\n",
       "      <td>0.016867</td>\n",
       "      <td>0.158410</td>\n",
       "      <td>0.016867</td>\n",
       "      <td>0.042671</td>\n",
       "      <td>0.000000</td>\n",
       "      <td>0.000000</td>\n",
       "      <td>0.174720</td>\n",
       "      <td>...</td>\n",
       "      <td>0.086418</td>\n",
       "      <td>0.0</td>\n",
       "      <td>0.061107</td>\n",
       "      <td>0.000000</td>\n",
       "      <td>0.286187</td>\n",
       "      <td>0.000000</td>\n",
       "      <td>0.061107</td>\n",
       "      <td>0.000000</td>\n",
       "      <td>0.000000</td>\n",
       "      <td>A</td>\n",
       "    </tr>\n",
       "    <tr>\n",
       "      <th>4</th>\n",
       "      <td>0.112670</td>\n",
       "      <td>0.017995</td>\n",
       "      <td>0.113813</td>\n",
       "      <td>0.017995</td>\n",
       "      <td>0.223678</td>\n",
       "      <td>0.017995</td>\n",
       "      <td>0.034144</td>\n",
       "      <td>0.000000</td>\n",
       "      <td>0.025449</td>\n",
       "      <td>0.223678</td>\n",
       "      <td>...</td>\n",
       "      <td>0.226324</td>\n",
       "      <td>0.0</td>\n",
       "      <td>0.021338</td>\n",
       "      <td>0.000000</td>\n",
       "      <td>0.075441</td>\n",
       "      <td>0.000000</td>\n",
       "      <td>0.000000</td>\n",
       "      <td>0.000000</td>\n",
       "      <td>0.000000</td>\n",
       "      <td>A</td>\n",
       "    </tr>\n",
       "  </tbody>\n",
       "</table>\n",
       "<p>5 rows × 15877 columns</p>\n",
       "</div>"
      ],
      "text/plain": [
       "        0_x         1         2         3         4         5         6  \\\n",
       "0  0.207034  0.000000  0.008010  0.037995  0.067968  0.055907  0.040051   \n",
       "1  0.210404  0.014370  0.133128  0.086218  0.128525  0.043109  0.018176   \n",
       "2  0.224609  0.034242  0.032485  0.017121  0.068910  0.017121  0.043313   \n",
       "3  0.218314  0.000000  0.042671  0.016867  0.158410  0.016867  0.042671   \n",
       "4  0.112670  0.017995  0.113813  0.017995  0.223678  0.017995  0.034144   \n",
       "\n",
       "          7         8         9 ...      15867  15868     15869     15870  \\\n",
       "0  0.050661  0.000000  0.148184 ...   0.000000    0.0  0.000000  0.000000   \n",
       "1  0.000000  0.079489  0.174552 ...   0.000000    0.0  0.017927  0.040086   \n",
       "2  0.147452  0.024213  0.114850 ...   0.144671    0.0  0.034099  0.049708   \n",
       "3  0.000000  0.000000  0.174720 ...   0.086418    0.0  0.061107  0.000000   \n",
       "4  0.000000  0.025449  0.223678 ...   0.226324    0.0  0.021338  0.000000   \n",
       "\n",
       "      15871     15872     15873     15874     15875  0_y  \n",
       "0  0.269353  0.000000  0.000000  0.000000  0.000000    A  \n",
       "1  0.347031  0.056691  0.017927  0.000000  0.000000    A  \n",
       "2  0.261024  0.026958  0.051149  0.053916  0.038124    A  \n",
       "3  0.286187  0.000000  0.061107  0.000000  0.000000    A  \n",
       "4  0.075441  0.000000  0.000000  0.000000  0.000000    A  \n",
       "\n",
       "[5 rows x 15877 columns]"
      ]
     },
     "execution_count": 8,
     "metadata": {},
     "output_type": "execute_result"
    }
   ],
   "source": [
    "#data = pd.merge(DF , F)\n",
    "DF = pd.DataFrame(X)\n",
    "F = pd.DataFrame(Y)\n",
    "data = pd.merge_asof(DF , F, left_index=True, right_index=True)\n",
    "\n",
    "data.head()\n"
   ]
  },
  {
   "cell_type": "code",
   "execution_count": 11,
   "metadata": {},
   "outputs": [
    {
     "data": {
      "text/plain": [
       "(240, 15876)"
      ]
     },
     "execution_count": 11,
     "metadata": {},
     "output_type": "execute_result"
    }
   ],
   "source": [
    "X = data.iloc[:, :-1]\n",
    "X.shape"
   ]
  },
  {
   "cell_type": "code",
   "execution_count": 16,
   "metadata": {},
   "outputs": [
    {
     "data": {
      "text/plain": [
       "240"
      ]
     },
     "execution_count": 16,
     "metadata": {},
     "output_type": "execute_result"
    }
   ],
   "source": [
    "Y = data.iloc[: , -1]\n",
    "len(Y)"
   ]
  },
  {
   "cell_type": "code",
   "execution_count": 17,
   "metadata": {},
   "outputs": [],
   "source": [
    "from sklearn.model_selection import train_test_split\n",
    "X_train, X_test, y_train, y_test = train_test_split(\n",
    "    X, Y, test_size=0.33, random_state=0)\n"
   ]
  },
  {
   "cell_type": "code",
   "execution_count": 18,
   "metadata": {},
   "outputs": [
    {
     "data": {
      "text/plain": [
       "SVC(C=0.9, cache_size=200, class_weight=None, coef0=0.0,\n",
       "  decision_function_shape='ovr', degree=3, gamma='auto', kernel='linear',\n",
       "  max_iter=-1, probability=True, random_state=None, shrinking=True,\n",
       "  tol=0.001, verbose=False)"
      ]
     },
     "execution_count": 18,
     "metadata": {},
     "output_type": "execute_result"
    }
   ],
   "source": [
    "from sklearn.svm import SVC\n",
    "svcmodel = SVC(kernel='linear', C=0.9, probability=True) \n",
    "svcmodel.fit(X_train, y_train) "
   ]
  },
  {
   "cell_type": "code",
   "execution_count": 19,
   "metadata": {},
   "outputs": [
    {
     "name": "stdout",
     "output_type": "stream",
     "text": [
      "['L' 'H' 'D' 'H' 'L' 'X' 'O' 'X' 'X' 'U' 'H' 'V' 'I' 'O' 'Y' 'O' 'T' 'N'\n",
      " 'X' 'A' 'L' 'S' 'I' 'N' 'A' 'C' 'U' 'K' 'B' 'R' 'F' 'E' 'P' 'N' 'P' 'M'\n",
      " 'P' 'S' 'G' 'K' 'Q' 'E' 'V' 'B' 'O' 'K' 'L' 'A' 'M' 'Y' 'G' 'Q' 'Y' 'O'\n",
      " 'K' 'D' 'Y' 'X' 'N' 'R' 'H' 'V' 'K' 'Y' 'V' 'O' 'K' 'W' 'N' 'H' 'A' 'L'\n",
      " 'G' 'W' 'F' 'G' 'C' 'N' 'U' 'W']\n"
     ]
    }
   ],
   "source": [
    "print(svcmodel.predict(X_test))"
   ]
  },
  {
   "cell_type": "code",
   "execution_count": 21,
   "metadata": {},
   "outputs": [
    {
     "name": "stdout",
     "output_type": "stream",
     "text": [
      "Accuracy: 0.825\n"
     ]
    }
   ],
   "source": [
    "from sklearn import metrics\n",
    "y_pred = svcmodel.predict(X_test)\n",
    "print(\"Accuracy:\",metrics.accuracy_score(y_test, y_pred) )"
   ]
  },
  {
   "cell_type": "code",
   "execution_count": 29,
   "metadata": {},
   "outputs": [
    {
     "name": "stdout",
     "output_type": "stream",
     "text": [
      "Accuracy: 0.825\n"
     ]
    }
   ],
   "source": [
    "from sklearn.neighbors import KNeighborsClassifier\n",
    "neigh = KNeighborsClassifier(n_neighbors=5)\n",
    "neigh.fit(X_train, y_train)\n",
    "Yy_pred = neigh.predict(X_test)\n",
    "print(\"Accuracy:\",metrics.accuracy_score(y_test, y_pred) )"
   ]
  },
  {
   "cell_type": "code",
   "execution_count": 23,
   "metadata": {},
   "outputs": [],
   "source": [
    "df2 = pd.read_csv(path + '\\\\EEG\\\\user_4\\\\user_4_loc.csv'  )\n",
    "df2.head()\n",
    "X2 = []\n",
    "from PIL import Image\n",
    "for i in range(len(df.image.values)):\n",
    "    im2 = Image.open(r\"{0}\".format(df2.image.values[i])).convert('LA')\n",
    "    im2 = im2.crop((df2.top_left_x.values[i], df2.top_left_y.values[i], df2.bottom_right_x.values[i], df2.bottom_right_y.values[i]))\n",
    "    im2 = im2.resize((128, 128), Image.ANTIALIAS)\n",
    "    im2 = hog(im2)\n",
    "#print(len(im1))\n",
    "    X2.append(list(im2))"
   ]
  },
  {
   "cell_type": "code",
   "execution_count": 24,
   "metadata": {},
   "outputs": [
    {
     "data": {
      "text/html": [
       "<div>\n",
       "<style scoped>\n",
       "    .dataframe tbody tr th:only-of-type {\n",
       "        vertical-align: middle;\n",
       "    }\n",
       "\n",
       "    .dataframe tbody tr th {\n",
       "        vertical-align: top;\n",
       "    }\n",
       "\n",
       "    .dataframe thead th {\n",
       "        text-align: right;\n",
       "    }\n",
       "</style>\n",
       "<table border=\"1\" class=\"dataframe\">\n",
       "  <thead>\n",
       "    <tr style=\"text-align: right;\">\n",
       "      <th></th>\n",
       "      <th>0</th>\n",
       "      <th>1</th>\n",
       "      <th>2</th>\n",
       "      <th>3</th>\n",
       "      <th>4</th>\n",
       "      <th>5</th>\n",
       "      <th>6</th>\n",
       "      <th>7</th>\n",
       "      <th>8</th>\n",
       "      <th>9</th>\n",
       "      <th>...</th>\n",
       "      <th>15866</th>\n",
       "      <th>15867</th>\n",
       "      <th>15868</th>\n",
       "      <th>15869</th>\n",
       "      <th>15870</th>\n",
       "      <th>15871</th>\n",
       "      <th>15872</th>\n",
       "      <th>15873</th>\n",
       "      <th>15874</th>\n",
       "      <th>15875</th>\n",
       "    </tr>\n",
       "  </thead>\n",
       "  <tbody>\n",
       "    <tr>\n",
       "      <th>0</th>\n",
       "      <td>0.222629</td>\n",
       "      <td>0.021505</td>\n",
       "      <td>0.068003</td>\n",
       "      <td>0.061157</td>\n",
       "      <td>0.153874</td>\n",
       "      <td>0.043009</td>\n",
       "      <td>0.027201</td>\n",
       "      <td>0.021505</td>\n",
       "      <td>0.0</td>\n",
       "      <td>0.222629</td>\n",
       "      <td>...</td>\n",
       "      <td>0.0</td>\n",
       "      <td>0.000000</td>\n",
       "      <td>0.0</td>\n",
       "      <td>0.000000</td>\n",
       "      <td>0.000000</td>\n",
       "      <td>0.276285</td>\n",
       "      <td>0.000000</td>\n",
       "      <td>0.000000</td>\n",
       "      <td>0.0</td>\n",
       "      <td>0.0</td>\n",
       "    </tr>\n",
       "    <tr>\n",
       "      <th>1</th>\n",
       "      <td>0.228478</td>\n",
       "      <td>0.019733</td>\n",
       "      <td>0.124800</td>\n",
       "      <td>0.075851</td>\n",
       "      <td>0.123546</td>\n",
       "      <td>0.084024</td>\n",
       "      <td>0.037440</td>\n",
       "      <td>0.019733</td>\n",
       "      <td>0.0</td>\n",
       "      <td>0.228478</td>\n",
       "      <td>...</td>\n",
       "      <td>0.0</td>\n",
       "      <td>0.074251</td>\n",
       "      <td>0.0</td>\n",
       "      <td>0.078755</td>\n",
       "      <td>0.000000</td>\n",
       "      <td>0.204191</td>\n",
       "      <td>0.000000</td>\n",
       "      <td>0.078755</td>\n",
       "      <td>0.0</td>\n",
       "      <td>0.0</td>\n",
       "    </tr>\n",
       "    <tr>\n",
       "      <th>2</th>\n",
       "      <td>0.229646</td>\n",
       "      <td>0.000000</td>\n",
       "      <td>0.073811</td>\n",
       "      <td>0.023341</td>\n",
       "      <td>0.083508</td>\n",
       "      <td>0.000000</td>\n",
       "      <td>0.088573</td>\n",
       "      <td>0.046682</td>\n",
       "      <td>0.0</td>\n",
       "      <td>0.147832</td>\n",
       "      <td>...</td>\n",
       "      <td>0.0</td>\n",
       "      <td>0.075116</td>\n",
       "      <td>0.0</td>\n",
       "      <td>0.000000</td>\n",
       "      <td>0.000000</td>\n",
       "      <td>0.325315</td>\n",
       "      <td>0.101376</td>\n",
       "      <td>0.000000</td>\n",
       "      <td>0.0</td>\n",
       "      <td>0.0</td>\n",
       "    </tr>\n",
       "    <tr>\n",
       "      <th>3</th>\n",
       "      <td>0.247232</td>\n",
       "      <td>0.061405</td>\n",
       "      <td>0.000000</td>\n",
       "      <td>0.000000</td>\n",
       "      <td>0.220746</td>\n",
       "      <td>0.047010</td>\n",
       "      <td>0.133792</td>\n",
       "      <td>0.047010</td>\n",
       "      <td>0.0</td>\n",
       "      <td>0.247232</td>\n",
       "      <td>...</td>\n",
       "      <td>0.0</td>\n",
       "      <td>0.000000</td>\n",
       "      <td>0.0</td>\n",
       "      <td>0.000000</td>\n",
       "      <td>0.000000</td>\n",
       "      <td>0.258613</td>\n",
       "      <td>0.000000</td>\n",
       "      <td>0.000000</td>\n",
       "      <td>0.0</td>\n",
       "      <td>0.0</td>\n",
       "    </tr>\n",
       "    <tr>\n",
       "      <th>4</th>\n",
       "      <td>0.232968</td>\n",
       "      <td>0.000000</td>\n",
       "      <td>0.104042</td>\n",
       "      <td>0.000000</td>\n",
       "      <td>0.110353</td>\n",
       "      <td>0.000000</td>\n",
       "      <td>0.086702</td>\n",
       "      <td>0.000000</td>\n",
       "      <td>0.0</td>\n",
       "      <td>0.249668</td>\n",
       "      <td>...</td>\n",
       "      <td>0.0</td>\n",
       "      <td>0.017184</td>\n",
       "      <td>0.0</td>\n",
       "      <td>0.048603</td>\n",
       "      <td>0.025616</td>\n",
       "      <td>0.114557</td>\n",
       "      <td>0.012808</td>\n",
       "      <td>0.032402</td>\n",
       "      <td>0.0</td>\n",
       "      <td>0.0</td>\n",
       "    </tr>\n",
       "  </tbody>\n",
       "</table>\n",
       "<p>5 rows × 15876 columns</p>\n",
       "</div>"
      ],
      "text/plain": [
       "      0         1         2         3         4         5         6      \\\n",
       "0  0.222629  0.021505  0.068003  0.061157  0.153874  0.043009  0.027201   \n",
       "1  0.228478  0.019733  0.124800  0.075851  0.123546  0.084024  0.037440   \n",
       "2  0.229646  0.000000  0.073811  0.023341  0.083508  0.000000  0.088573   \n",
       "3  0.247232  0.061405  0.000000  0.000000  0.220746  0.047010  0.133792   \n",
       "4  0.232968  0.000000  0.104042  0.000000  0.110353  0.000000  0.086702   \n",
       "\n",
       "      7      8         9      ...    15866     15867  15868     15869  \\\n",
       "0  0.021505    0.0  0.222629  ...      0.0  0.000000    0.0  0.000000   \n",
       "1  0.019733    0.0  0.228478  ...      0.0  0.074251    0.0  0.078755   \n",
       "2  0.046682    0.0  0.147832  ...      0.0  0.075116    0.0  0.000000   \n",
       "3  0.047010    0.0  0.247232  ...      0.0  0.000000    0.0  0.000000   \n",
       "4  0.000000    0.0  0.249668  ...      0.0  0.017184    0.0  0.048603   \n",
       "\n",
       "      15870     15871     15872     15873  15874  15875  \n",
       "0  0.000000  0.276285  0.000000  0.000000    0.0    0.0  \n",
       "1  0.000000  0.204191  0.000000  0.078755    0.0    0.0  \n",
       "2  0.000000  0.325315  0.101376  0.000000    0.0    0.0  \n",
       "3  0.000000  0.258613  0.000000  0.000000    0.0    0.0  \n",
       "4  0.025616  0.114557  0.012808  0.032402    0.0    0.0  \n",
       "\n",
       "[5 rows x 15876 columns]"
      ]
     },
     "execution_count": 24,
     "metadata": {},
     "output_type": "execute_result"
    }
   ],
   "source": [
    "DF = pd.DataFrame(X2)\n"
   ]
  },
  {
   "cell_type": "code",
   "execution_count": 33,
   "metadata": {},
   "outputs": [
    {
     "data": {
      "text/plain": [
       "array(['E', 'E', 'I', 'E', 'I', 'I', 'S', 'E', 'A', 'A', 'B', 'B', 'B',\n",
       "       'B', 'B', 'B', 'B', 'B', 'B', 'B', 'O', 'O', 'C', 'O', 'O', 'C',\n",
       "       'C', 'C', 'C', 'O', 'D', 'D', 'D', 'D', 'D', 'D', 'D', 'D', 'E',\n",
       "       'D', 'E', 'E', 'E', 'E', 'E', 'E', 'E', 'E', 'E', 'E', 'B', 'B',\n",
       "       'B', 'B', 'V', 'F', 'F', 'F', 'C', 'F', 'G', 'G', 'G', 'G', 'G',\n",
       "       'G', 'G', 'G', 'G', 'G', 'G', 'H', 'D', 'D', 'G', 'G', 'H', 'P',\n",
       "       'G', 'P', 'Y', 'I', 'Y', 'I', 'E', 'I', 'I', 'I', 'I', 'E', 'D',\n",
       "       'K', 'K', 'D', 'V', 'D', 'D', 'D', 'D', 'D', 'V', 'U', 'U', 'V',\n",
       "       'U', 'K', 'K', 'U', 'K', 'U', 'E', 'E', 'D', 'M', 'E', 'E', 'E',\n",
       "       'M', 'N', 'E', 'E', 'K', 'U', 'K', 'E', 'E', 'E', 'E', 'N', 'N',\n",
       "       'O', 'O', 'O', 'O', 'O', 'O', 'C', 'O', 'C', 'C', 'H', 'H', 'H',\n",
       "       'H', 'P', 'P', 'P', 'P', 'P', 'P', 'U', 'K', 'V', 'X', 'B', 'Q',\n",
       "       'B', 'S', 'X', 'Q', 'K', 'K', 'U', 'R', 'U', 'K', 'B', 'B', 'B',\n",
       "       'B', 'N', 'S', 'S', 'S', 'S', 'E', 'N', 'A', 'N', 'A', 'T', 'U',\n",
       "       'T', 'U', 'U', 'H', 'T', 'H', 'T', 'T', 'R', 'K', 'V', 'V', 'K',\n",
       "       'K', 'K', 'K', 'K', 'K', 'B', 'R', 'B', 'B', 'B', 'V', 'V', 'V',\n",
       "       'V', 'V', 'B', 'K', 'U', 'K', 'B', 'B', 'V', 'W', 'V', 'D', 'X',\n",
       "       'D', 'T', 'D', 'U', 'B', 'R', 'W', 'R', 'D', 'Y', 'Y', 'X', 'Y',\n",
       "       'Y', 'Y', 'Y', 'Y', 'Y', 'Y'], dtype=object)"
      ]
     },
     "execution_count": 33,
     "metadata": {},
     "output_type": "execute_result"
    }
   ],
   "source": [
    "neigh.fit(X_train, y_train)\n",
    "Yy_pred = neigh.predict(DF)\n",
    "Yy_pred"
   ]
  },
  {
   "cell_type": "code",
   "execution_count": 34,
   "metadata": {},
   "outputs": [
    {
     "data": {
      "text/plain": [
       "240"
      ]
     },
     "execution_count": 34,
     "metadata": {},
     "output_type": "execute_result"
    }
   ],
   "source": [
    "len(Yy_pred)"
   ]
  },
  {
   "cell_type": "code",
   "execution_count": 35,
   "metadata": {},
   "outputs": [
    {
     "name": "stdout",
     "output_type": "stream",
     "text": [
      "Accuracy: 0.4375\n"
     ]
    }
   ],
   "source": [
    "Y2 = list()\n",
    "for i in range(len(AY)):\n",
    "    for j in range(10):\n",
    "        Y2.append(AY[i])\n",
    "print(\"Accuracy:\",metrics.accuracy_score(Y2, Yy_pred) )"
   ]
  },
  {
   "cell_type": "code",
   "execution_count": 36,
   "metadata": {},
   "outputs": [
    {
     "name": "stdout",
     "output_type": "stream",
     "text": [
      "Accuracy: 0.48333333333333334\n"
     ]
    }
   ],
   "source": [
    "YY_pred = svcmodel.predict(DF)\n",
    "print(\"Accuracy:\",metrics.accuracy_score(Y2, YY_pred) )"
   ]
  },
  {
   "cell_type": "code",
   "execution_count": 37,
   "metadata": {},
   "outputs": [],
   "source": [
    "df3 = pd.read_csv(path + '\\\\EEG\\\\user_5\\\\user_5_loc.csv'  )\n",
    "df3.head()\n",
    "X3 = []\n",
    "from PIL import Image\n",
    "for i in range(len(df.image.values)):\n",
    "    im3 = Image.open(r\"{0}\".format(df3.image.values[i])).convert('LA')\n",
    "    im3 = im3.crop((df3.top_left_x.values[i], df3.top_left_y.values[i], df3.bottom_right_x.values[i], df3.bottom_right_y.values[i]))\n",
    "    im3 = im3.resize((128, 128), Image.ANTIALIAS)\n",
    "    im3 = hog(im3)\n",
    "#print(len(im1))\n",
    "    X3.append(list(im2))"
   ]
  },
  {
   "cell_type": "code",
   "execution_count": 41,
   "metadata": {},
   "outputs": [],
   "source": [
    "DF3 = pd.DataFrame(X3)\n"
   ]
  },
  {
   "cell_type": "code",
   "execution_count": 43,
   "metadata": {},
   "outputs": [
    {
     "name": "stdout",
     "output_type": "stream",
     "text": [
      "Accuracy: 0.041666666666666664\n"
     ]
    }
   ],
   "source": [
    "pred = neigh.predict(DF3)\n",
    "print(\"Accuracy:\",metrics.accuracy_score(Y2,pred) )"
   ]
  },
  {
   "cell_type": "code",
   "execution_count": null,
   "metadata": {},
   "outputs": [],
   "source": []
  }
 ],
 "metadata": {
  "kernelspec": {
   "display_name": "Python 3",
   "language": "python",
   "name": "python3"
  },
  "language_info": {
   "codemirror_mode": {
    "name": "ipython",
    "version": 3
   },
   "file_extension": ".py",
   "mimetype": "text/x-python",
   "name": "python",
   "nbconvert_exporter": "python",
   "pygments_lexer": "ipython3",
   "version": "3.7.0"
  }
 },
 "nbformat": 4,
 "nbformat_minor": 2
}
